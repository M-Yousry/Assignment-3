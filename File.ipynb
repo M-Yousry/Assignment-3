{
 "cells": [
  {
   "cell_type": "markdown",
   "metadata": {},
   "source": [
    "# 2.2) Solve the Python Files Task :\n"
   ]
  },
  {
   "cell_type": "markdown",
   "metadata": {},
   "source": [
    "> ### 1- Open a file, name it 'test.txt' and write 'hello world' for 5 times in it then close it."
   ]
  },
  {
   "cell_type": "code",
   "execution_count": 1,
   "metadata": {},
   "outputs": [
    {
     "name": "stdout",
     "output_type": "stream",
     "text": [
      "hello world \n",
      "hello world \n",
      "hello world \n",
      "hello world \n",
      "hello world \n",
      "\n"
     ]
    }
   ],
   "source": [
    "my_file=open('test.txt','w+')\n",
    "my_file.write('hello world \\n'*5)\n",
    "my_file.seek(0)\n",
    "print(my_file.read())\n",
    "my_file.close()"
   ]
  },
  {
   "cell_type": "markdown",
   "metadata": {},
   "source": [
    "> ### 2- Read the contents of the file, then make content in uppercase then write the result :"
   ]
  },
  {
   "cell_type": "code",
   "execution_count": 2,
   "metadata": {},
   "outputs": [
    {
     "name": "stdout",
     "output_type": "stream",
     "text": [
      "HELLO WORLD \n",
      "\n",
      "HELLO WORLD \n",
      "\n",
      "HELLO WORLD \n",
      "\n",
      "HELLO WORLD \n",
      "\n",
      "HELLO WORLD \n",
      "\n",
      "['hello world \\n', 'hello world \\n', 'hello world \\n', 'hello world \\n', 'hello world \\n', 'HELLO WORLD \\n', 'HELLO WORLD \\n', 'HELLO WORLD \\n', 'HELLO WORLD \\n', 'HELLO WORLD \\n']\n"
     ]
    }
   ],
   "source": [
    "my_file=open('test.txt','a+')\n",
    "my_file.seek(0)\n",
    "my_lines = list(my_file.readlines())\n",
    "\n",
    "for i in range(len(my_lines)):\n",
    "    my_lines[i] = my_lines[i].upper()\n",
    "    print(my_lines[i])\n",
    "\n",
    "my_file.writelines(my_lines) \n",
    "my_file.seek(0)\n",
    "print(my_file.readlines()) \n"
   ]
  },
  {
   "cell_type": "markdown",
   "metadata": {},
   "source": [
    "> ### 3- Read the third line of the file then update it to its capital case using capitalize :"
   ]
  },
  {
   "cell_type": "code",
   "execution_count": 3,
   "metadata": {},
   "outputs": [
    {
     "name": "stdout",
     "output_type": "stream",
     "text": [
      "['hello world \\n', 'hello world \\n', 'Hello world \\n', 'hello world \\n', 'hello world \\n', 'HELLO WORLD \\n', 'HELLO WORLD \\n', 'HELLO WORLD \\n', 'HELLO WORLD \\n', 'HELLO WORLD \\n']\n"
     ]
    }
   ],
   "source": [
    "my_file=open('test.txt','a+')\n",
    "my_file.seek(0)\n",
    "my_lines = list(my_file.readlines())\n",
    "my_lines[2] = my_lines[2].capitalize()\n",
    "my_file.truncate(0)\n",
    "my_file.writelines(my_lines)\n",
    "my_file.seek(0)\n",
    "print(my_file.readlines())"
   ]
  },
  {
   "cell_type": "markdown",
   "metadata": {},
   "source": [
    "> ### 4- Using With Statement open this file and append 'I Love python' to it :"
   ]
  },
  {
   "cell_type": "code",
   "execution_count": 4,
   "metadata": {},
   "outputs": [
    {
     "name": "stdout",
     "output_type": "stream",
     "text": [
      "['hello world \\n', 'hello world \\n', 'Hello world \\n', 'hello world \\n', 'hello world \\n', 'HELLO WORLD \\n', 'HELLO WORLD \\n', 'HELLO WORLD \\n', 'HELLO WORLD \\n', 'HELLO WORLD \\n', 'I Love Python \\n']\n"
     ]
    }
   ],
   "source": [
    "with open('test.txt', 'a+') as my_file:\n",
    "    my_file.write(\"I Love Python \\n\")\n",
    "    my_file.seek(0)\n",
    "    print(my_file.readlines())\n",
    "    "
   ]
  },
  {
   "cell_type": "code",
   "execution_count": null,
   "metadata": {},
   "outputs": [],
   "source": []
  }
 ],
 "metadata": {
  "kernelspec": {
   "display_name": "Python 3",
   "language": "python",
   "name": "python3"
  },
  "language_info": {
   "codemirror_mode": {
    "name": "ipython",
    "version": 3
   },
   "file_extension": ".py",
   "mimetype": "text/x-python",
   "name": "python",
   "nbconvert_exporter": "python",
   "pygments_lexer": "ipython3",
   "version": "3.8.5"
  }
 },
 "nbformat": 4,
 "nbformat_minor": 4
}
