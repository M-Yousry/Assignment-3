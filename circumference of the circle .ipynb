{
 "cells": [
  {
   "cell_type": "markdown",
   "metadata": {},
   "source": [
    "# circumference of the circle."
   ]
  },
  {
   "cell_type": "code",
   "execution_count": 1,
   "metadata": {},
   "outputs": [
    {
     "name": "stdout",
     "output_type": "stream",
     "text": [
      "Enter the radius : 10.25\n",
      "The radius = 10.25 \n",
      "The Circumference of a circle = 64.37\n"
     ]
    }
   ],
   "source": [
    "# Ask the user for the radius :\n",
    "\n",
    "r = float(input(\"Enter the radius : \"))\n",
    "\n",
    "# The Circumference of a circle = 2πR\n",
    "\n",
    "circ = float (2*3.14*r)\n",
    "\n",
    "# print the Circumference :\n",
    "\n",
    "print(f\"The radius = {r} \\nThe Circumference of a circle = {circ}\")\n"
   ]
  },
  {
   "cell_type": "code",
   "execution_count": null,
   "metadata": {},
   "outputs": [],
   "source": []
  }
 ],
 "metadata": {
  "kernelspec": {
   "display_name": "Python 3",
   "language": "python",
   "name": "python3"
  },
  "language_info": {
   "codemirror_mode": {
    "name": "ipython",
    "version": 3
   },
   "file_extension": ".py",
   "mimetype": "text/x-python",
   "name": "python",
   "nbconvert_exporter": "python",
   "pygments_lexer": "ipython3",
   "version": "3.8.5"
  }
 },
 "nbformat": 4,
 "nbformat_minor": 4
}
