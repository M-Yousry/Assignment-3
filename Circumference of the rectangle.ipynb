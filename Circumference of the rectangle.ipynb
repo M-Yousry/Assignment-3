{
 "cells": [
  {
   "cell_type": "markdown",
   "metadata": {},
   "source": [
    "# Circumference of the rectangle :"
   ]
  },
  {
   "cell_type": "code",
   "execution_count": 1,
   "metadata": {},
   "outputs": [
    {
     "name": "stdout",
     "output_type": "stream",
     "text": [
      "Enter the Length : 10.25\n",
      "Enter the Width : 5.75\n",
      "The Length = 10.25 \n",
      "The width = 5.75 \n",
      "The circumference = 32.0\n"
     ]
    }
   ],
   "source": [
    "# Ask the user for the length and width :\n",
    "\n",
    "l = float(input(\"Enter the Length : \"))\n",
    "w = float(input(\"Enter the Width : \"))\n",
    "\n",
    "#The circumference of a rectangle is :\n",
    "\n",
    "c = 2 * (l + w)\n",
    "\n",
    "# Print circumference of a rectangle :\n",
    "\n",
    "print(f\"The Length = {l} \\nThe width = {w} \\nThe circumference = {c}\")"
   ]
  },
  {
   "cell_type": "code",
   "execution_count": null,
   "metadata": {},
   "outputs": [],
   "source": []
  }
 ],
 "metadata": {
  "kernelspec": {
   "display_name": "Python 3",
   "language": "python",
   "name": "python3"
  },
  "language_info": {
   "codemirror_mode": {
    "name": "ipython",
    "version": 3
   },
   "file_extension": ".py",
   "mimetype": "text/x-python",
   "name": "python",
   "nbconvert_exporter": "python",
   "pygments_lexer": "ipython3",
   "version": "3.8.5"
  }
 },
 "nbformat": 4,
 "nbformat_minor": 4
}
